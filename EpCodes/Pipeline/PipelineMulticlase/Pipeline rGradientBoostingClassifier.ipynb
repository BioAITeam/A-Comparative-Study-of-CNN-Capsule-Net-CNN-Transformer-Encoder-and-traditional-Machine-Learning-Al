{
 "cells": [
  {
   "cell_type": "code",
   "execution_count": 1,
   "id": "ac2bb2aa",
   "metadata": {},
   "outputs": [],
   "source": [
    "import os\n",
    "import pandas as pd\n",
    "import numpy as np\n",
    "import seaborn as sns\n",
    "from sklearn.model_selection import train_test_split\n",
    "from sklearn.preprocessing import StandardScaler\n",
    "from sklearn.base import BaseEstimator\n",
    "import time\n",
    "\n",
    "#Visualizers\n",
    "from yellowbrick.classifier import ClassificationReport\n",
    "from yellowbrick.classifier import ClassPredictionError\n",
    "from yellowbrick.classifier import ConfusionMatrix\n",
    "from yellowbrick.classifier import ROCAUC\n",
    "from yellowbrick.classifier import PrecisionRecallCurve\n",
    "import matplotlib.pyplot as plt\n",
    "\n",
    "#Metrics\n",
    "from sklearn.metrics import accuracy_score\n",
    "from sklearn.metrics import cohen_kappa_score\n",
    "from sklearn.metrics import hamming_loss\n",
    "from sklearn.metrics import log_loss\n",
    "from sklearn.metrics import zero_one_loss\n",
    "from sklearn.metrics import matthews_corrcoef\n",
    "\n",
    "#Classifiers\n",
    "from sklearn.neighbors import KNeighborsClassifier \n",
    "from sklearn.linear_model import LogisticRegression\n",
    "from sklearn.ensemble import RandomForestClassifier\n",
    "from sklearn import svm\n",
    "from sklearn.ensemble import ExtraTreesClassifier\n",
    "from sklearn.ensemble import GradientBoostingClassifier\n",
    "from sklearn.neural_network import MLPClassifier\n",
    "from sklearn.tree import DecisionTreeClassifier\n",
    "\n",
    "#Neural Network\n",
    "from tensorflow.keras.layers import Input\n",
    "from tensorflow.keras.layers import Dense\n",
    "from tensorflow.keras.layers import Conv1D\n",
    "from tensorflow.keras.models import Model\n",
    "from tensorflow.keras.optimizers import Adam\n",
    "from tensorflow.keras.optimizers import RMSprop\n",
    "from tensorflow.keras.utils import to_categorical\n",
    "from tensorflow.keras.wrappers.scikit_learn import KerasClassifier\n",
    "from sklearn.pipeline import Pipeline\n",
    "\n",
    "import warnings\n",
    "warnings.filterwarnings('ignore')"
   ]
  },
  {
   "cell_type": "code",
   "execution_count": 2,
   "id": "420ccfaf",
   "metadata": {},
   "outputs": [],
   "source": [
    "data_path6 = 'Epileptic Seizure Recognition.csv' \n",
    "figures_path = './figures'"
   ]
  },
  {
   "cell_type": "code",
   "execution_count": 3,
   "id": "f234f573",
   "metadata": {},
   "outputs": [],
   "source": [
    "Data = pd.read_csv(data_path6)"
   ]
  },
  {
   "cell_type": "code",
   "execution_count": 4,
   "id": "086a5add",
   "metadata": {},
   "outputs": [],
   "source": [
    "Data=Data.drop([\"Unnamed\"],axis=1)"
   ]
  },
  {
   "cell_type": "code",
   "execution_count": 5,
   "id": "3443f7b6",
   "metadata": {},
   "outputs": [
    {
     "name": "stdout",
     "output_type": "stream",
     "text": [
      "Features shape: (11500, 178)\n",
      "Labels shape: (11500,)\n"
     ]
    }
   ],
   "source": [
    "Labels = Data['y'].values\n",
    "Features = Data.drop(['y'],axis=1).values\n",
    "\n",
    "\n",
    "print('Features shape:', Features.shape)\n",
    "print('Labels shape:', Labels.shape)"
   ]
  },
  {
   "cell_type": "code",
   "execution_count": 6,
   "id": "208dd654",
   "metadata": {},
   "outputs": [],
   "source": [
    "for i in range(len(Labels)):\n",
    "  Labels[i] = Labels[i]-1"
   ]
  },
  {
   "cell_type": "code",
   "execution_count": 7,
   "id": "c0de2a9f",
   "metadata": {},
   "outputs": [],
   "source": [
    "#Write function for class-centric metrics\n",
    "# Classification report\n",
    "def CR_viz():\n",
    "    def Class_report(model,classes):\n",
    "        visualizer = ClassificationReport(model, classes=classes, support=True)\n",
    "        train_start_time = time.time()\n",
    "        visualizer.fit(X_train, y_train)  # Fit the visualizer and the model\n",
    "        print(f'Train runtime: {time.time()-train_start_time}')\n",
    "        test_start_time = time.time()\n",
    "        visualizer.score(X_test, y_test)  # Evaluate the model on the test data\n",
    "        print(f'Test runtime: {time.time()-test_start_time}')\n",
    "        return visualizer.poof()\n",
    "    for name, classifier in zip(names, classifiers):\n",
    "        fig, ax = plt.subplots(nrows=1, ncols=1 )\n",
    "        Class_report(classifier,classes)\n",
    "        #fig.savefig(figures_path+\"/\"+str(len(classes))+\"FP/\"+name+\"_CR.pdf\")\n",
    "\n",
    "#Class Prediction Error\n",
    "def CPE_viz():    \n",
    "    def CPE(model,classes):\n",
    "        visualizer = ClassPredictionError(model, classes=classes)\n",
    "        visualizer.fit(X_train, y_train)  # Fit the visualizer and the model\n",
    "        visualizer.score(X_test, y_test)  # Evaluate the model on the test data \n",
    "        return visualizer.poof()  \n",
    "    for name, classifier in zip(names, classifiers):\n",
    "        fig, ax = plt.subplots(nrows=1, ncols=1 )\n",
    "        CPE(classifier,classes)\n",
    "        #fig.savefig(figures_path+\"/\"+str(len(classes))+\"FP/\"+name+\"_CPE.pdf\")\n",
    "        \n",
    "#Confusion matrix\n",
    "def CM_viz():    \n",
    "    def CM(model,classes):\n",
    "        visualizer = ConfusionMatrix(model, classes=classes, percent=True)\n",
    "        visualizer.fit(X_train, y_train)  # Fit the visualizer and the model\n",
    "        visualizer.score(X_test, y_test)  # Evaluate the model on the test data \n",
    "        return visualizer.poof()  \n",
    "    for name, classifier in zip(names, classifiers):\n",
    "        fig, ax = plt.subplots(nrows=1, ncols=1 )\n",
    "        CM(classifier,classes)\n",
    "        #fig.savefig(figures_path+\"/\"+str(len(classes))+\"FP/\"+name+\"_CM.pdf\")\n",
    "        \n",
    "#ROC-AUC\n",
    "def ROC_viz():    \n",
    "    def ROC(model,classes):\n",
    "        visualizer = ROCAUC(model, classes=classes)\n",
    "        visualizer.fit(X_train, y_train)  # Fit the visualizer and the model\n",
    "        visualizer.score(X_test, y_test)  # Evaluate the model on the test data \n",
    "        return visualizer.poof()  \n",
    "    for name, classifier in zip(names, classifiers):\n",
    "        fig, ax = plt.subplots(nrows=1, ncols=1 )\n",
    "        ROC(classifier,classes)\n",
    "        #fig.savefig(figures_path+\"/\"+str(len(classes))+\"FP/\"+name+\"_ROC.pdf\")\n",
    "\n",
    "#Precision Recall Curve\n",
    "def PRC_viz():  \n",
    "    def PRC(model,classes):\n",
    "        visualizer = PrecisionRecallCurve(model,classes=classes, per_class=True, iso_f1_curves=False,\n",
    "    fill_area=False, micro=False)\n",
    "        visualizer.fit(X_train, y_train)  # Fit the visualizer and the model\n",
    "        visualizer.score(X_test, y_test)  # Evaluate the model on the test data \n",
    "        return visualizer.poof()  \n",
    "    for name, classifier in zip(names, classifiers):\n",
    "        fig, ax = plt.subplots(nrows=1, ncols=1 )\n",
    "        PRC(classifier,classes)\n",
    "        #fig.savefig(figures_path+\"/\"+str(len(classes))+\"FP/\"+name+\"_PRC.pdf\")"
   ]
  },
  {
   "cell_type": "code",
   "execution_count": 8,
   "id": "c1c3eb97",
   "metadata": {},
   "outputs": [],
   "source": [
    "# Write function for aggregate metrics \n",
    "def classifier_metrics():    \n",
    "    def metrics(model):\n",
    "        #     model=model_name()\n",
    "        model.fit(X_train, y_train)  # Fit the visualizer and the model\n",
    "        y_pred = model.predict(X_test)\n",
    "        try: \n",
    "            y_prob = model.predict_proba(X_test)\n",
    "            log_metric = log_loss(y_test,y_prob)\n",
    "        except:\n",
    "            y_prob = \"Not probablistic\"\n",
    "            log_metric = 0 \n",
    "        else:\n",
    "            y_pred = model.predict(X_test)\n",
    "\n",
    "        acc_score=accuracy_score(y_test,y_pred) \n",
    "        c_k_s=cohen_kappa_score(y_test,y_pred)\n",
    "        zero_met=zero_one_loss(y_test,y_pred)\n",
    "        hl=hamming_loss(y_test,y_pred)\n",
    "        mc=matthews_corrcoef(y_test,y_pred)\n",
    "        print('accuracy_score: {0:.4f}'.format(acc_score))\n",
    "        print('cohen_kappa_score: {0:.4f}'.format(c_k_s))\n",
    "        print('log_loss: {0:.4f}'.format(log_metric))\n",
    "        print('zero_one_loss: {0:.4f}'.format(zero_met))\n",
    "        print('hemming_loss: {0:.4f}'.format(hl))\n",
    "        print('matthews_corrcoef: {0:.4f}'.format(mc))\n",
    "    for name in classifiers:\n",
    "        print (str(name))\n",
    "        metrics(name)\n",
    "        print()\n",
    "        print (\"---------------------------------------------------------------------------------\") "
   ]
  },
  {
   "cell_type": "code",
   "execution_count": 9,
   "id": "b84b2631",
   "metadata": {},
   "outputs": [],
   "source": [
    "class KerasBatchClassifier(KerasClassifier, BaseEstimator):\n",
    "    def __init__(self, model, **kwargs):\n",
    "        super().__init__(model)\n",
    "        self.fit_kwargs = kwargs\n",
    "        self._estimator_type = 'classifier'\n",
    "\n",
    "    def fit(self, x, y, *args, **kwargs):\n",
    "        y = np.array(y)\n",
    "        if len(y.shape) == 2 and y.shape[1] > 1:\n",
    "          self.classes_ = np.arange(y.shape[1])\n",
    "        elif (len(y.shape) == 2 and y.shape[1] == 1) or len(y.shape) == 1:\n",
    "          self.classes_ = np.unique(y)\n",
    "          y = np.searchsorted(self.classes_, y)\n",
    "        else:\n",
    "          raise ValueError('Invalid shape for y: ' + str(y.shape))\n",
    "        self.n_classes_ = len(self.classes_)\n",
    "        return super(KerasClassifier, self).fit(x, y, **self.fit_kwargs)\n",
    "\n",
    "\n",
    "# RED NEURONAL\n",
    "def FullyConnected():\n",
    "  inputs = Input(shape=(X_train.shape[1],), name=\"input_1\")\n",
    "  layers = Dense(512, activation=\"selu\")(inputs)\n",
    "  layers = Dense(256, activation=\"selu\")(layers)\n",
    "  layers = Dense(128, activation=\"selu\")(layers)\n",
    "  layers = Dense(64, activation=\"selu\")(layers)\n",
    "\n",
    "#agregar capas \n",
    "  predictions = Dense(len(classes), activation=\"softmax\", name=\"output_1\")(layers)\n",
    "  model = Model(inputs = inputs, outputs=predictions)\n",
    "  optimizer=RMSprop() \n",
    "  model.compile(optimizer=optimizer,\n",
    "                loss='categorical_crossentropy', \n",
    "                metrics=['accuracy'])\n",
    "  return model "
   ]
  },
  {
   "cell_type": "code",
   "execution_count": 10,
   "id": "78ca05e9",
   "metadata": {},
   "outputs": [
    {
     "name": "stdout",
     "output_type": "stream",
     "text": [
      "Train data shape: (9200, 178)\n",
      "Train labels shape: (9200,)\n",
      "Test data shape: (2300, 178)\n",
      "Test labels shape: (2300,)\n"
     ]
    }
   ],
   "source": [
    "X_train, X_test, y_train, y_test = train_test_split(Features, Labels, test_size=0.2, stratify=Labels, random_state=42)\n",
    "\n",
    "print('Train data shape:', X_train.shape)\n",
    "print('Train labels shape:', y_train.shape)\n",
    "print('Test data shape:', X_test.shape)\n",
    "print('Test labels shape:', y_test.shape)"
   ]
  },
  {
   "cell_type": "code",
   "execution_count": 11,
   "id": "771a2234",
   "metadata": {},
   "outputs": [],
   "source": [
    "scaler = StandardScaler().fit(X_train)\n",
    "\n",
    "X_train = scaler.transform(X_train)\n",
    "X_test = scaler.transform(X_test)"
   ]
  },
  {
   "cell_type": "code",
   "execution_count": 12,
   "id": "8aefd654",
   "metadata": {},
   "outputs": [],
   "source": [
    "#classes \n",
    "classes = [0, 1, 2, 3, 4]"
   ]
  },
  {
   "cell_type": "code",
   "execution_count": 19,
   "id": "a662a7c1",
   "metadata": {},
   "outputs": [
    {
     "data": {
      "text/plain": [
       "GridSearchCV(cv=5,\n",
       "             estimator=Pipeline(steps=[('classifier',\n",
       "                                        GradientBoostingClassifier())]),\n",
       "             param_grid={'classifier__learning_rate': [0.1, 0.05, 0.01],\n",
       "                         'classifier__max_depth': [3, 5, 7],\n",
       "                         'classifier__n_estimators': [50, 100, 200],\n",
       "                         'classifier__random_state': [10, 20, 30, 40, 50]})"
      ]
     },
     "execution_count": 19,
     "metadata": {},
     "output_type": "execute_result"
    }
   ],
   "source": [
    "from sklearn.model_selection import GridSearchCV\n",
    "pipeline = Pipeline([    ('classifier', GradientBoostingClassifier())])\n",
    "parameters = {\n",
    " 'classifier__n_estimators': [50, 100, 200],  # Number of boosting stages\n",
    "    'classifier__learning_rate': [0.1, 0.05, 0.01],  # Learning rate\n",
    "    'classifier__max_depth': [3, 5, 7],\n",
    "\n",
    "    'classifier__random_state':[10,20,30,40,50]\n",
    "    # Maximum depth of individual regression estimators\n",
    "}\n",
    "grid_search = GridSearchCV(pipeline, parameters, cv=5)\n",
    "grid_search.fit(X_train, y_train)"
   ]
  },
  {
   "cell_type": "code",
   "execution_count": 20,
   "id": "51385e1f",
   "metadata": {},
   "outputs": [
    {
     "name": "stdout",
     "output_type": "stream",
     "text": [
      "Mejores parámetros encontrados:\n",
      "{'classifier__learning_rate': 0.1, 'classifier__max_depth': 7, 'classifier__n_estimators': 200, 'classifier__random_state': 10}\n",
      "Puntuación de validación cruzada media del mejor modelo:\n",
      "0.6849999999999999\n"
     ]
    }
   ],
   "source": [
    "print(\"Mejores parámetros encontrados:\")\n",
    "print(grid_search.best_params_)\n",
    "print(\"Puntuación de validación cruzada media del mejor modelo:\")\n",
    "print(grid_search.best_score_)"
   ]
  },
  {
   "cell_type": "code",
   "execution_count": null,
   "id": "3e14aba0",
   "metadata": {},
   "outputs": [],
   "source": []
  }
 ],
 "metadata": {
  "kernelspec": {
   "display_name": "Python 3 (ipykernel)",
   "language": "python",
   "name": "python3"
  },
  "language_info": {
   "codemirror_mode": {
    "name": "ipython",
    "version": 3
   },
   "file_extension": ".py",
   "mimetype": "text/x-python",
   "name": "python",
   "nbconvert_exporter": "python",
   "pygments_lexer": "ipython3",
   "version": "3.9.13"
  }
 },
 "nbformat": 4,
 "nbformat_minor": 5
}
