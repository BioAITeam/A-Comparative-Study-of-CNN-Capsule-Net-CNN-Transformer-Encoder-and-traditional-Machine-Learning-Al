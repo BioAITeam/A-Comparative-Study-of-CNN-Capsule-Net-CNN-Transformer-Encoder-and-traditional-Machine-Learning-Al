{
 "cells": [
  {
   "cell_type": "code",
   "execution_count": 1,
   "metadata": {
    "id": "bkbSHynI8H9c"
   },
   "outputs": [],
   "source": [
    "# libraries \n",
    "import os\n",
    "import pandas as pd\n",
    "import numpy as np\n",
    "import seaborn as sns\n",
    "from sklearn.model_selection import train_test_split\n",
    "from sklearn.preprocessing import StandardScaler\n",
    "from sklearn.base import BaseEstimator\n",
    "import time\n",
    "\n",
    "#Visualizers\n",
    "from yellowbrick.classifier import ClassificationReport\n",
    "from yellowbrick.classifier import ClassPredictionError\n",
    "from yellowbrick.classifier import ConfusionMatrix\n",
    "from yellowbrick.classifier import ROCAUC\n",
    "from yellowbrick.classifier import PrecisionRecallCurve\n",
    "import matplotlib.pyplot as plt\n",
    "\n",
    "#Metrics\n",
    "from sklearn.metrics import accuracy_score\n",
    "from sklearn.metrics import cohen_kappa_score\n",
    "from sklearn.metrics import hamming_loss\n",
    "from sklearn.metrics import log_loss\n",
    "from sklearn.metrics import zero_one_loss\n",
    "from sklearn.metrics import matthews_corrcoef\n",
    "\n",
    "#Classifiers\n",
    "from sklearn.neighbors import KNeighborsClassifier \n",
    "from sklearn.linear_model import LogisticRegression\n",
    "from sklearn.ensemble import RandomForestClassifier\n",
    "from sklearn import svm\n",
    "from sklearn.ensemble import ExtraTreesClassifier\n",
    "from sklearn.ensemble import GradientBoostingClassifier\n",
    "from sklearn.neural_network import MLPClassifier\n",
    "from sklearn.tree import DecisionTreeClassifier\n",
    "from sklearn.pipeline import Pipeline\n",
    "\n",
    "#Neural Network\n",
    "from tensorflow.keras.layers import Input\n",
    "from tensorflow.keras.layers import Dense\n",
    "from tensorflow.keras.layers import Conv1D\n",
    "from tensorflow.keras.models import Model\n",
    "from tensorflow.keras.optimizers import Adam\n",
    "from tensorflow.keras.optimizers import RMSprop\n",
    "from tensorflow.keras.utils import to_categorical\n",
    "from tensorflow.keras.wrappers.scikit_learn import KerasClassifier\n",
    "\n",
    "import warnings\n",
    "warnings.filterwarnings('ignore')"
   ]
  },
  {
   "cell_type": "code",
   "execution_count": 2,
   "metadata": {
    "id": "sbU3yOGj8KzP"
   },
   "outputs": [],
   "source": [
    "data_path6 = 'Epileptic Seizure Recognition.csv' \n",
    "figures_path = './figures' "
   ]
  },
  {
   "cell_type": "code",
   "execution_count": 3,
   "metadata": {
    "id": "fCkkhC_j8M4e"
   },
   "outputs": [],
   "source": [
    "if not os.path.exists(figures_path):\n",
    "    os.makedirs(figures_path) \n",
    "if not os.path.exists(figures_path+\"/6FP\"):\n",
    "    os.makedirs(figures_path+\"/6FP\") \n"
   ]
  },
  {
   "cell_type": "code",
   "execution_count": 4,
   "metadata": {
    "id": "b-8NL4NQDuAA"
   },
   "outputs": [],
   "source": [
    "Data = pd.read_csv(data_path6)"
   ]
  },
  {
   "cell_type": "code",
   "execution_count": 5,
   "metadata": {
    "id": "VK4vySMODya5"
   },
   "outputs": [],
   "source": [
    "Data=Data.drop([\"Unnamed\"],axis=1)"
   ]
  },
  {
   "cell_type": "code",
   "execution_count": 6,
   "metadata": {
    "colab": {
     "base_uri": "https://localhost:8080/"
    },
    "id": "gZDBy0x6D0yw",
    "outputId": "9bd67292-d700-47a7-e8a0-61d6a04510a2"
   },
   "outputs": [
    {
     "name": "stdout",
     "output_type": "stream",
     "text": [
      "Features shape: (11500, 178)\n",
      "Labels shape: (11500,)\n"
     ]
    }
   ],
   "source": [
    "Labels = Data['y'].values\n",
    "Features = Data.drop(['y'],axis=1).values\n",
    "\n",
    "\n",
    "print('Features shape:', Features.shape)\n",
    "print('Labels shape:', Labels.shape)\n"
   ]
  },
  {
   "cell_type": "code",
   "execution_count": 7,
   "metadata": {
    "id": "DCbVYJVaREml"
   },
   "outputs": [],
   "source": [
    "for i in range(len(Labels)):\n",
    "  if Labels[i]==2 or Labels[i]==3 or Labels[i]==4 or Labels[i]==5:\n",
    "    Labels[i]=0\n",
    "  else:\n",
    "    Labels[i]=1\n"
   ]
  },
  {
   "cell_type": "code",
   "execution_count": 8,
   "metadata": {
    "colab": {
     "base_uri": "https://localhost:8080/"
    },
    "id": "PjK4dAj56TEq",
    "outputId": "61a537d7-8fb1-416f-8612-1c89dd90ecc1"
   },
   "outputs": [
    {
     "data": {
      "text/plain": [
       "array([0, 1, 0, ..., 0, 0, 0], dtype=int64)"
      ]
     },
     "execution_count": 8,
     "metadata": {},
     "output_type": "execute_result"
    }
   ],
   "source": [
    "Labels"
   ]
  },
  {
   "cell_type": "code",
   "execution_count": 9,
   "metadata": {
    "id": "I1XCFoG38QHG"
   },
   "outputs": [],
   "source": [
    "#Write function for class-centric metrics\n",
    "# Classification report\n",
    "def CR_viz():\n",
    "    def Class_report(model,classes):\n",
    "        visualizer = ClassificationReport(model, classes=classes, support=True)\n",
    "        train_start_time = time.time()\n",
    "        visualizer.fit(X_train, y_train)  # Fit the visualizer and the model\n",
    "        print(f'Train runtime: {time.time()-train_start_time}')\n",
    "        test_start_time = time.time()\n",
    "        visualizer.score(X_test, y_test)  # Evaluate the model on the test data\n",
    "        print(f'Test runtime: {time.time()-test_start_time}')\n",
    "        return visualizer.poof()\n",
    "    for name, classifier in zip(names, classifiers):\n",
    "        fig, ax = plt.subplots(nrows=1, ncols=1 )\n",
    "        Class_report(classifier,classes)\n",
    "        fig.savefig(figures_path+\"/\"+str(len(classes))+\"FP/\"+name+\"_CR.pdf\")\n",
    "\n",
    "#Class Prediction Error\n",
    "def CPE_viz():    \n",
    "    def CPE(model,classes):\n",
    "        visualizer = ClassPredictionError(model, classes=classes)\n",
    "        visualizer.fit(X_train, y_train)  # Fit the visualizer and the model\n",
    "        visualizer.score(X_test, y_test)  # Evaluate the model on the test data \n",
    "        return visualizer.poof()  \n",
    "    for name, classifier in zip(names, classifiers):\n",
    "        fig, ax = plt.subplots(nrows=1, ncols=1 )\n",
    "        CPE(classifier,classes)\n",
    "        fig.savefig(figures_path+\"/\"+str(len(classes))+\"FP/\"+name+\"_CPE.pdf\")\n",
    "        \n",
    "#Confusion matrix\n",
    "def CM_viz():    \n",
    "    def CM(model,classes):\n",
    "        visualizer = ConfusionMatrix(model, classes=classes, percent=True)\n",
    "        visualizer.fit(X_train, y_train)  # Fit the visualizer and the model\n",
    "        visualizer.score(X_test, y_test)  # Evaluate the model on the test data \n",
    "        return visualizer.poof()  \n",
    "    for name, classifier in zip(names, classifiers):\n",
    "        fig, ax = plt.subplots(nrows=1, ncols=1 )\n",
    "        CM(classifier,classes)\n",
    "        fig.savefig(figures_path+\"/\"+str(len(classes))+\"FP/\"+name+\"_CM.pdf\")\n",
    "        \n",
    "#ROC-AUC\n",
    "def ROC_viz():    \n",
    "    def ROC(model,classes):\n",
    "        visualizer = ROCAUC(model, classes=classes)\n",
    "        visualizer.fit(X_train, y_train)  # Fit the visualizer and the model\n",
    "        visualizer.score(X_test, y_test)  # Evaluate the model on the test data \n",
    "        return visualizer.poof()  \n",
    "    for name, classifier in zip(names, classifiers):\n",
    "        fig, ax = plt.subplots(nrows=1, ncols=1 )\n",
    "        ROC(classifier,classes)\n",
    "        fig.savefig(figures_path+\"/\"+str(len(classes))+\"FP/\"+name+\"_ROC.pdf\")\n",
    "\n",
    "#Precision Recall Curve\n",
    "def PRC_viz():  \n",
    "    def PRC(model,classes):\n",
    "        visualizer = PrecisionRecallCurve(model,classes=classes, per_class=True, iso_f1_curves=False,\n",
    "    fill_area=False, micro=False)\n",
    "        visualizer.fit(X_train, y_train)  # Fit the visualizer and the model\n",
    "        visualizer.score(X_test, y_test)  # Evaluate the model on the test data \n",
    "        return visualizer.poof()  \n",
    "    for name, classifier in zip(names, classifiers):\n",
    "        fig, ax = plt.subplots(nrows=1, ncols=1 )\n",
    "        PRC(classifier,classes)\n",
    "        fig.savefig(figures_path+\"/\"+str(len(classes))+\"FP/\"+name+\"_PRC.pdf\")"
   ]
  },
  {
   "cell_type": "code",
   "execution_count": 10,
   "metadata": {
    "id": "w5eM7ZC28Sym"
   },
   "outputs": [],
   "source": [
    "# Write function for aggregate metrics \n",
    "def classifier_metrics():    \n",
    "    def metrics(model):\n",
    "        #     model=model_name()\n",
    "        model.fit(X_train, y_train)  # Fit the visualizer and the model\n",
    "        y_pred = model.predict(X_test)\n",
    "        try: \n",
    "            y_prob = model.predict_proba(X_test)\n",
    "            log_metric = log_loss(y_test,y_prob)\n",
    "        except:\n",
    "            y_prob = \"Not probablistic\"\n",
    "            log_metric = 0 \n",
    "        else:\n",
    "            y_pred = model.predict(X_test)\n",
    "\n",
    "        acc_score=accuracy_score(y_test,y_pred) \n",
    "        c_k_s=cohen_kappa_score(y_test,y_pred)\n",
    "        zero_met=zero_one_loss(y_test,y_pred)\n",
    "        hl=hamming_loss(y_test,y_pred)\n",
    "        mc=matthews_corrcoef(y_test,y_pred)\n",
    "        print('accuracy_score: {0:.4f}'.format(acc_score))\n",
    "        print('cohen_kappa_score: {0:.4f}'.format(c_k_s))\n",
    "        print('log_loss: {0:.4f}'.format(log_metric))\n",
    "        print('zero_one_loss: {0:.4f}'.format(zero_met))\n",
    "        print('hemming_loss: {0:.4f}'.format(hl))\n",
    "        print('matthews_corrcoef: {0:.4f}'.format(mc))\n",
    "    for name in classifiers:\n",
    "        print (str(name))\n",
    "        metrics(name)\n",
    "        print()\n",
    "        print (\"---------------------------------------------------------------------------------\") "
   ]
  },
  {
   "cell_type": "code",
   "execution_count": 11,
   "metadata": {
    "id": "KuoDu1HJ8WIv"
   },
   "outputs": [],
   "source": [
    "class KerasBatchClassifier(KerasClassifier, BaseEstimator):\n",
    "    def __init__(self, model, **kwargs):\n",
    "        super().__init__(model)\n",
    "        self.fit_kwargs = kwargs\n",
    "        self._estimator_type = 'classifier'\n",
    "\n",
    "    def fit(self, x, y, *args, **kwargs):\n",
    "        y = np.array(y)\n",
    "        if len(y.shape) == 2 and y.shape[1] > 1:\n",
    "          self.classes_ = np.arange(y.shape[1])\n",
    "        elif (len(y.shape) == 2 and y.shape[1] == 1) or len(y.shape) == 1:\n",
    "          self.classes_ = np.unique(y)\n",
    "          y = np.searchsorted(self.classes_, y)\n",
    "        else:\n",
    "          raise ValueError('Invalid shape for y: ' + str(y.shape))\n",
    "        self.n_classes_ = len(self.classes_)\n",
    "        return super(KerasClassifier, self).fit(x, y, **self.fit_kwargs)\n",
    "\n",
    "def FullyConnected():\n",
    "  inputs = Input(shape=(X_train.shape[1],), name=\"input_1\")\n",
    "  layers = Dense(512, activation=\"selu\")(inputs)\n",
    "  layers = Dense(256, activation=\"selu\")(layers)\n",
    "  layers = Dense(128, activation=\"selu\")(layers)\n",
    "  layers = Dense(64, activation=\"selu\")(layers)\n",
    "  predictions = Dense(len(classes), activation=\"softmax\", name=\"output_1\")(layers)\n",
    "  model = Model(inputs = inputs, outputs=predictions)\n",
    "  optimizer=RMSprop() \n",
    "  model.compile(optimizer=optimizer,\n",
    "                loss='categorical_crossentropy', \n",
    "                metrics=['accuracy'])\n",
    "  return model "
   ]
  },
  {
   "cell_type": "code",
   "execution_count": 12,
   "metadata": {
    "colab": {
     "base_uri": "https://localhost:8080/"
    },
    "id": "Xf33Yytd8gkH",
    "outputId": "3110c5c8-d649-4bf4-f7a2-e13f4f11716a"
   },
   "outputs": [
    {
     "name": "stdout",
     "output_type": "stream",
     "text": [
      "Train data shape: (9200, 178)\n",
      "Train labels shape: (9200,)\n",
      "Test data shape: (2300, 178)\n",
      "Test labels shape: (2300,)\n"
     ]
    }
   ],
   "source": [
    "X_train, X_test, y_train, y_test = train_test_split(Features, Labels, test_size=0.2, stratify=Labels, random_state=42)\n",
    "\n",
    "print('Train data shape:', X_train.shape)\n",
    "print('Train labels shape:', y_train.shape)\n",
    "print('Test data shape:', X_test.shape)\n",
    "print('Test labels shape:', y_test.shape)"
   ]
  },
  {
   "cell_type": "code",
   "execution_count": 13,
   "metadata": {
    "id": "jb-NXtN1ENaJ"
   },
   "outputs": [],
   "source": [
    "scaler = StandardScaler().fit(X_train)\n",
    "\n",
    "X_train = scaler.transform(X_train)\n",
    "X_test = scaler.transform(X_test)"
   ]
  },
  {
   "cell_type": "code",
   "execution_count": 14,
   "metadata": {
    "id": "knSdlA-7EP9_"
   },
   "outputs": [],
   "source": [
    "#classes \n",
    "classes = [0, 1] "
   ]
  },
  {
   "cell_type": "code",
   "execution_count": 15,
   "metadata": {
    "id": "J1LNxWmoETbv"
   },
   "outputs": [
    {
     "ename": "NameError",
     "evalue": "name 'Pipeline' is not defined",
     "output_type": "error",
     "traceback": [
      "\u001b[1;31m---------------------------------------------------------------------------\u001b[0m",
      "\u001b[1;31mNameError\u001b[0m                                 Traceback (most recent call last)",
      "\u001b[1;32m~\\AppData\\Local\\Temp\\ipykernel_9856\\1632883865.py\u001b[0m in \u001b[0;36m<module>\u001b[1;34m\u001b[0m\n\u001b[0;32m      1\u001b[0m \u001b[1;32mfrom\u001b[0m \u001b[0msklearn\u001b[0m\u001b[1;33m.\u001b[0m\u001b[0mmodel_selection\u001b[0m \u001b[1;32mimport\u001b[0m \u001b[0mGridSearchCV\u001b[0m\u001b[1;33m\u001b[0m\u001b[1;33m\u001b[0m\u001b[0m\n\u001b[1;32m----> 2\u001b[1;33m \u001b[0mpipeline\u001b[0m \u001b[1;33m=\u001b[0m \u001b[0mPipeline\u001b[0m\u001b[1;33m(\u001b[0m\u001b[1;33m[\u001b[0m    \u001b[1;33m(\u001b[0m\u001b[1;34m'clf'\u001b[0m\u001b[1;33m,\u001b[0m \u001b[0mMLPClassifier\u001b[0m\u001b[1;33m(\u001b[0m\u001b[1;33m)\u001b[0m\u001b[1;33m)\u001b[0m\u001b[1;33m]\u001b[0m\u001b[1;33m)\u001b[0m\u001b[1;33m\u001b[0m\u001b[1;33m\u001b[0m\u001b[0m\n\u001b[0m\u001b[0;32m      3\u001b[0m \u001b[1;33m\u001b[0m\u001b[0m\n\u001b[0;32m      4\u001b[0m parameters = {\n\u001b[0;32m      5\u001b[0m \u001b[1;34m'clf__hidden_layer_sizes'\u001b[0m\u001b[1;33m:\u001b[0m \u001b[1;33m[\u001b[0m\u001b[1;33m(\u001b[0m\u001b[1;36m50\u001b[0m\u001b[1;33m,\u001b[0m\u001b[1;33m)\u001b[0m\u001b[1;33m,\u001b[0m \u001b[1;33m(\u001b[0m\u001b[1;36m100\u001b[0m\u001b[1;33m,\u001b[0m\u001b[1;33m)\u001b[0m\u001b[1;33m,\u001b[0m \u001b[1;33m(\u001b[0m\u001b[1;36m50\u001b[0m\u001b[1;33m,\u001b[0m \u001b[1;36m50\u001b[0m\u001b[1;33m)\u001b[0m\u001b[1;33m,\u001b[0m \u001b[1;33m(\u001b[0m\u001b[1;36m100\u001b[0m\u001b[1;33m,\u001b[0m \u001b[1;36m50\u001b[0m\u001b[1;33m)\u001b[0m\u001b[1;33m]\u001b[0m\u001b[1;33m,\u001b[0m\u001b[1;33m\u001b[0m\u001b[1;33m\u001b[0m\u001b[0m\n",
      "\u001b[1;31mNameError\u001b[0m: name 'Pipeline' is not defined"
     ]
    }
   ],
   "source": [
    "from sklearn.model_selection import GridSearchCV\n",
    "pipeline = Pipeline([    ('classifier', RandomForestClassifier())])\n",
    "parameters = {\n",
    "  'classifier__n_estimators': [50, 100, 150,200,250,300,400,500],\n",
    "    'classifier__max_depth': [None, 10, 20,30,40],\n",
    "    'classifier__min_samples_split': [2, 4, 6,8,10],\n",
    "    'classifier__random_state':[10,20,30,40,50] \n",
    "}\n",
    "grid_search = GridSearchCV(pipeline, parameters, cv=5)\n",
    "grid_search.fit(X_train, y_train)"
   ]
  },
  {
   "cell_type": "code",
   "execution_count": null,
   "metadata": {
    "colab": {
     "base_uri": "https://localhost:8080/",
     "height": 1000
    },
    "id": "-ylwGLrOFVwn",
    "outputId": "f7d73c6a-cb65-48b9-a5a5-46f146dbb346"
   },
   "outputs": [],
   "source": [
    "print(\"Mejores parámetros encontrados:\")\n",
    "print(grid_search.best_params_)\n",
    "print(\"Puntuación de validación cruzada media del mejor modelo:\")\n",
    "print(grid_search.best_score_)"
   ]
  },
  {
   "cell_type": "code",
   "execution_count": null,
   "metadata": {},
   "outputs": [],
   "source": []
  }
 ],
 "metadata": {
  "colab": {
   "provenance": []
  },
  "kernelspec": {
   "display_name": "Python 3 (ipykernel)",
   "language": "python",
   "name": "python3"
  },
  "language_info": {
   "codemirror_mode": {
    "name": "ipython",
    "version": 3
   },
   "file_extension": ".py",
   "mimetype": "text/x-python",
   "name": "python",
   "nbconvert_exporter": "python",
   "pygments_lexer": "ipython3",
   "version": "3.9.13"
  }
 },
 "nbformat": 4,
 "nbformat_minor": 4
}
